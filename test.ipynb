{
 "cells": [
  {
   "cell_type": "code",
   "execution_count": 1,
   "metadata": {},
   "outputs": [
    {
     "name": "stderr",
     "output_type": "stream",
     "text": [
      "PyCBC.libutils: pkg-config call failed, setting NO_PKGCONFIG=1\n"
     ]
    }
   ],
   "source": [
    "from coredldev.dataset import CoReDataset\n",
    "from coredldev.finders.distance_scaling.h5 import h5Finder\n",
    "from coredldev.sources.distance_scaling.h5 import h5Source\n",
    "from coredldev.utilites.pipeline import pipeline\n",
    "from coredldev.preprocessing.ligo_noise.inject_noise import noise_injection\n",
    "from coredldev.preprocessing.raw_postmerger.detector_angle_mixing import detector_angle_mixing\n",
    "from coredldev.preprocessing.raw_postmerger.distance_scale import distance_scale\n",
    "from coredldev.preprocessing.raw_postmerger.wavelet_transform import wavelet_transform\n",
    "from coredldev.preprocessing.to_tensor import to_tensor_clean\n",
    "\n",
    "import numpy as np\n",
    "import matplotlib\n",
    "matplotlib.use('Qt5Cairo')\n",
    "import matplotlib.pyplot as plt"
   ]
  },
  {
   "cell_type": "code",
   "execution_count": 2,
   "metadata": {},
   "outputs": [],
   "source": [
    "datapoints, eosmap, remaining = h5Finder().get_datapoints()\n",
    "source = h5Source(eos_to_index_map=eosmap)\n",
    "dataset = CoReDataset(source, datapoints, lambda x: x)\n"
   ]
  },
  {
   "cell_type": "code",
   "execution_count": null,
   "metadata": {},
   "outputs": [],
   "source": [
    "datapoints, eosmap, remaining = h5Finder().get_datapoints()\n",
    "source = h5Source(eos_to_index_map=eosmap)\n",
    "complete_dataset = CoReDataset(source, datapoints, pipeline([detector_angle_mixing, distance_scale, noise_injection, wavelet_transform, to_tensor_clean]))\n"
   ]
  },
  {
   "cell_type": "code",
   "execution_count": 3,
   "metadata": {},
   "outputs": [
    {
     "name": "stdout",
     "output_type": "stream",
     "text": [
      "{'hplus': array([9.768915e-03, 1.012637e-02, 1.049284e-02, ..., 3.266654e-05,\n",
      "       3.265640e-05, 3.264536e-05]), 'hcross': array([ 1.008040e-02,  9.724502e-03,  9.347327e-03, ..., -3.649211e-07,\n",
      "       -5.424664e-07, -7.199693e-07]), 'pm_time': array([0.03925335, 0.0392552 , 0.03925705, ..., 0.05600402, 0.05600586,\n",
      "       0.05600775]), 'params': {'eos': 0, 'mass_starA': 1.349976, 'mass_starB': 1.349976, 'percent_shift': 1.0, 'rescale_to_radii': 1000.0, 'angle': (24, 90, 3.141592653589793), 'sam_p': 1.8504977910315882e-06, 'current_extraction_radius': 850.0}}\n"
     ]
    }
   ],
   "source": [
    "data = dataset[0]\n",
    "print(data)\n"
   ]
  },
  {
   "cell_type": "code",
   "execution_count": 4,
   "metadata": {},
   "outputs": [],
   "source": [
    "plt.plot(data[\"pm_time\"],data[\"hplus\"], label=\"hplus\")\n",
    "plt.plot(data[\"pm_time\"],data[\"hcross\"],label=\"hcross\")\n",
    "plt.legend()\n",
    "plt.savefig(\"imgs/test0.png\")\n",
    "# plt.show()"
   ]
  },
  {
   "cell_type": "code",
   "execution_count": 5,
   "metadata": {},
   "outputs": [
    {
     "name": "stdout",
     "output_type": "stream",
     "text": [
      "{'pm_time': array([0.03925335, 0.0392552 , 0.03925705, ..., 0.05600402, 0.05600586,\n",
      "       0.05600775]), 'params': {'eos': 0, 'mass_starA': 1.349976, 'mass_starB': 1.349976, 'percent_shift': 1.0, 'rescale_to_radii': 1000.0, 'angle': (24, 90, 3.141592653589793), 'sam_p': 1.8504977910315882e-06, 'current_extraction_radius': 850.0}, 'signal': array([ 0.00000000e+00, -5.01123055e-47, -3.12297823e-29, ...,\n",
      "        0.00000000e+00,  0.00000000e+00,  0.00000000e+00])} 9821 9054\n"
     ]
    }
   ],
   "source": [
    "plt.clf()\n",
    "data1 = detector_angle_mixing()(data)\n",
    "print(data1,len(data1[\"signal\"]),len(data1[\"pm_time\"]))\n",
    "plt.plot(data1[\"signal\"], label = \"mixed\")\n",
    "# plt.plot(data[\"hplus\"], label=\"hplus\")\n",
    "# plt.plot(data[\"hcross\"],label=\"hcross\")\n",
    "plt.savefig(\"imgs/test1.png\")\n",
    "# plt.show()"
   ]
  },
  {
   "cell_type": "code",
   "execution_count": 6,
   "metadata": {},
   "outputs": [
    {
     "name": "stdout",
     "output_type": "stream",
     "text": [
      "{'pm_time': array([0.03925335, 0.0392552 , 0.03925705, ..., 0.05600402, 0.05600586,\n",
      "       0.05600775]), 'params': {'eos': 0, 'mass_starA': 1.349976, 'mass_starB': 1.349976, 'percent_shift': 1.0, 'rescale_to_radii': 1000.0, 'angle': (24, 90, 3.141592653589793), 'sam_p': 1.8504977910315882e-06, 'current_extraction_radius': 850.0}, 'signal': array([ 0.00000000e+00, -3.62061408e-47, -2.25635177e-29, ...,\n",
      "        0.00000000e+00,  0.00000000e+00,  0.00000000e+00])} 9821 9054\n"
     ]
    }
   ],
   "source": [
    "# plt.clf()\n",
    "data2 = distance_scale()(data1)\n",
    "print(data2,len(data2[\"signal\"]),len(data2[\"pm_time\"]))\n",
    "plt.plot(data2[\"signal\"],label=\"distance shifted signal\")\n",
    "plt.legend()\n",
    "plt.savefig(\"imgs/test2.png\")\n",
    "plt.show()"
   ]
  },
  {
   "cell_type": "code",
   "execution_count": 7,
   "metadata": {},
   "outputs": [
    {
     "name": "stderr",
     "output_type": "stream",
     "text": [
      "2023-10-03 20:43:30 Generating white noise\n"
     ]
    },
    {
     "name": "stdout",
     "output_type": "stream",
     "text": [
      "1.8504977910315882e-06 540395.1330536497 0.016754407\n",
      "1.8504977910315882e-06 9820 1.8504977910315882e-06 9821\n",
      "{'pm_time': array([0.03925335, 0.0392552 , 0.03925705, ..., 0.05600402, 0.05600586,\n",
      "       0.05600775]), 'params': {'eos': 0, 'mass_starA': 1.349976, 'mass_starB': 1.349976, 'percent_shift': 1.0, 'rescale_to_radii': 1000.0, 'angle': (24, 90, 3.141592653589793), 'sam_p': 1.8504977910315882e-06, 'current_extraction_radius': 850.0}, 'signal': <pycbc.types.timeseries.TimeSeries object at 0x7fb8e86d8e10>} 9820 9054\n"
     ]
    }
   ],
   "source": [
    "plt.clf()\n",
    "data3 = noise_injection()(data2)\n",
    "print(data3,len(data3[\"signal\"]),len(data3[\"pm_time\"]))\n",
    "plt.plot(data3[\"signal\"],label = \"noised\")\n",
    "plt.plot(data2[\"signal\"], label = \"clean\")\n",
    "plt.legend()\n",
    "plt.savefig(\"imgs/test3.png\")\n",
    "# plt.show()\n"
   ]
  },
  {
   "cell_type": "code",
   "execution_count": 8,
   "metadata": {},
   "outputs": [
    {
     "name": "stdout",
     "output_type": "stream",
     "text": [
      "(400, 9818)\n",
      "150\n",
      "150.0\n",
      "{'pm_time': array([0.03925335, 0.0392552 , 0.03925705, ..., 0.05600402, 0.05600586,\n",
      "       0.05600775]), 'params': {'eos': 0, 'mass_starA': 1.349976, 'mass_starB': 1.349976, 'percent_shift': 1.0, 'rescale_to_radii': 1000.0, 'angle': (24, 90, 3.141592653589793), 'sam_p': 1.8504977910315882e-06, 'current_extraction_radius': 850.0}, 'signal': array([[0., 0., 0., ..., 0., 0., 0.],\n",
      "       [0., 0., 0., ..., 0., 0., 0.],\n",
      "       [0., 0., 0., ..., 0., 0., 0.],\n",
      "       ...,\n",
      "       [0., 0., 0., ..., 0., 0., 0.],\n",
      "       [0., 0., 0., ..., 0., 0., 0.],\n",
      "       [0., 0., 0., ..., 0., 0., 0.]])} (400, 400) 9054\n"
     ]
    }
   ],
   "source": [
    "plt.clf()\n",
    "data4 = wavelet_transform()(data3)\n",
    "print(data4,data4[\"signal\"].shape,len(data4[\"pm_time\"]))\n",
    "plt.imshow(data4[\"signal\"])\n",
    "plt.show()"
   ]
  },
  {
   "cell_type": "code",
   "execution_count": 9,
   "metadata": {},
   "outputs": [
    {
     "name": "stdout",
     "output_type": "stream",
     "text": [
      "(tensor([[0., 0., 0.,  ..., 0., 0., 0.],\n",
      "        [0., 0., 0.,  ..., 0., 0., 0.],\n",
      "        [0., 0., 0.,  ..., 0., 0., 0.],\n",
      "        ...,\n",
      "        [0., 0., 0.,  ..., 0., 0., 0.],\n",
      "        [0., 0., 0.,  ..., 0., 0., 0.],\n",
      "        [0., 0., 0.,  ..., 0., 0., 0.]], dtype=torch.float64), tensor([0.0000e+00, 1.3500e+00, 1.3500e+00, 1.0000e+00, 1.0000e+03, 1.8505e-06,\n",
      "        8.5000e+02, 2.4000e+01, 9.0000e+01, 3.1416e+00], dtype=torch.float64)) torch.Size([400, 400]) torch.Size([10])\n",
      "tensor([0.0000e+00, 1.3500e+00, 1.3500e+00, 1.0000e+00, 1.0000e+03, 1.8505e-06,\n",
      "        8.5000e+02, 2.4000e+01, 9.0000e+01, 3.1416e+00], dtype=torch.float64)\n"
     ]
    }
   ],
   "source": [
    "data5 = to_tensor_clean()(data4)\n",
    "print(data5,data5[0].shape,data5[1].shape)\n",
    "print(data5[1])\n",
    "plt.imshow(data5[0].numpy())\n",
    "plt.show()"
   ]
  }
 ],
 "metadata": {
  "kernelspec": {
   "display_name": "Python 3",
   "language": "python",
   "name": "python3"
  },
  "language_info": {
   "codemirror_mode": {
    "name": "ipython",
    "version": 3
   },
   "file_extension": ".py",
   "mimetype": "text/x-python",
   "name": "python",
   "nbconvert_exporter": "python",
   "pygments_lexer": "ipython3",
   "version": "3.11.5"
  }
 },
 "nbformat": 4,
 "nbformat_minor": 2
}
